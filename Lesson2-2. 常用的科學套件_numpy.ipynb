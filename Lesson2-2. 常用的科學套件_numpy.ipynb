{
 "cells": [
  {
   "cell_type": "code",
   "execution_count": 1,
   "metadata": {},
   "outputs": [],
   "source": [
    "import numpy as np"
   ]
  },
  {
   "cell_type": "markdown",
   "metadata": {},
   "source": [
    "### 1-3. Numpy array\n",
    "取代陣列List"
   ]
  },
  {
   "cell_type": "code",
   "execution_count": 2,
   "metadata": {},
   "outputs": [
    {
     "data": {
      "text/plain": [
       "array([1, 2, 3, 4, 5])"
      ]
     },
     "execution_count": 2,
     "metadata": {},
     "output_type": "execute_result"
    }
   ],
   "source": [
    "np.array([1, 2, 3, 4, 5])"
   ]
  },
  {
   "cell_type": "code",
   "execution_count": 3,
   "metadata": {},
   "outputs": [
    {
     "data": {
      "text/plain": [
       "[1, 2, 3, 4, 5]"
      ]
     },
     "execution_count": 3,
     "metadata": {},
     "output_type": "execute_result"
    }
   ],
   "source": [
    "[1, 2, 3, 4, 5]"
   ]
  },
  {
   "cell_type": "code",
   "execution_count": 4,
   "metadata": {},
   "outputs": [
    {
     "data": {
      "text/plain": [
       "array([0, 1, 2, 3, 4, 5, 6, 7, 8, 9])"
      ]
     },
     "execution_count": 4,
     "metadata": {},
     "output_type": "execute_result"
    }
   ],
   "source": [
    "np.arange(10)"
   ]
  },
  {
   "cell_type": "markdown",
   "metadata": {},
   "source": [
    "### 1-4. 查變數型態"
   ]
  },
  {
   "cell_type": "code",
   "execution_count": 5,
   "metadata": {},
   "outputs": [
    {
     "data": {
      "text/plain": [
       "dtype('int32')"
      ]
     },
     "execution_count": 5,
     "metadata": {},
     "output_type": "execute_result"
    }
   ],
   "source": [
    "data = np.array([1, 2, 3, 4, 5])\n",
    "data.dtype"
   ]
  },
  {
   "cell_type": "markdown",
   "metadata": {},
   "source": [
    "### 1-5. 查維度、長度"
   ]
  },
  {
   "cell_type": "code",
   "execution_count": 6,
   "metadata": {},
   "outputs": [],
   "source": [
    "data = np.array([1, 2, 3, 4, 5])"
   ]
  },
  {
   "cell_type": "code",
   "execution_count": 7,
   "metadata": {},
   "outputs": [
    {
     "data": {
      "text/plain": [
       "1"
      ]
     },
     "execution_count": 7,
     "metadata": {},
     "output_type": "execute_result"
    }
   ],
   "source": [
    "# 維度\n",
    "data.ndim"
   ]
  },
  {
   "cell_type": "code",
   "execution_count": 8,
   "metadata": {},
   "outputs": [
    {
     "data": {
      "text/plain": [
       "5"
      ]
     },
     "execution_count": 8,
     "metadata": {},
     "output_type": "execute_result"
    }
   ],
   "source": [
    "# 長度\n",
    "# len(data)\n",
    "data.size"
   ]
  },
  {
   "cell_type": "code",
   "execution_count": 9,
   "metadata": {},
   "outputs": [
    {
     "name": "stdout",
     "output_type": "stream",
     "text": [
      "(2, 3)\n",
      "2\n",
      "3\n"
     ]
    }
   ],
   "source": [
    "# 每個維度的長度\n",
    "data = np.array([[1, 2, 3],\n",
    "                 [4, 5, 6]])\n",
    "\n",
    "print(data.shape)\n",
    "print(data.shape[0])\n",
    "print(data.shape[1])"
   ]
  },
  {
   "cell_type": "code",
   "execution_count": 10,
   "metadata": {},
   "outputs": [
    {
     "data": {
      "text/plain": [
       "6"
      ]
     },
     "execution_count": 10,
     "metadata": {},
     "output_type": "execute_result"
    }
   ],
   "source": [
    "data.size"
   ]
  },
  {
   "cell_type": "markdown",
   "metadata": {},
   "source": [
    "### 題外話:塑型"
   ]
  },
  {
   "cell_type": "code",
   "execution_count": 11,
   "metadata": {},
   "outputs": [
    {
     "name": "stdout",
     "output_type": "stream",
     "text": [
      "[1 2 3 4 5 6]\n",
      "[[1 2 3]\n",
      " [4 5 6]]\n",
      "[[1 2]\n",
      " [3 4]\n",
      " [5 6]]\n"
     ]
    }
   ],
   "source": [
    "data = np.array([1, 2, 3, 4, 5, 6])\n",
    "print(data)\n",
    "print(data.reshape(2, 3))\n",
    "print(data.reshape(3, -1))"
   ]
  },
  {
   "cell_type": "markdown",
   "metadata": {},
   "source": [
    "### 1-6. 四則運算"
   ]
  },
  {
   "cell_type": "code",
   "execution_count": 12,
   "metadata": {},
   "outputs": [
    {
     "name": "stdout",
     "output_type": "stream",
     "text": [
      "[12 14 16]\n",
      "[-8 -6 -4]\n",
      "[20 40 60]\n",
      "[0.2 0.4 0.6]\n"
     ]
    }
   ],
   "source": [
    "data = np.array([2, 4, 6])\n",
    "print(data+10)\n",
    "print(data-10)\n",
    "print(data*10)\n",
    "print(data/10)"
   ]
  },
  {
   "cell_type": "code",
   "execution_count": 13,
   "metadata": {},
   "outputs": [
    {
     "name": "stdout",
     "output_type": "stream",
     "text": [
      "[3 6 9]\n",
      "[1 2 3]\n",
      "[ 2  8 18]\n",
      "[2. 2. 2.]\n"
     ]
    }
   ],
   "source": [
    "data1 = np.array([2, 4, 6])\n",
    "data2 = np.array([1, 2, 3])\n",
    "\n",
    "print(data1+data2)\n",
    "print(data1-data2)\n",
    "print(data1*data2)\n",
    "print(data1/data2)"
   ]
  },
  {
   "cell_type": "markdown",
   "metadata": {},
   "source": [
    "### 1-7. 排序"
   ]
  },
  {
   "cell_type": "code",
   "execution_count": 14,
   "metadata": {},
   "outputs": [
    {
     "name": "stdout",
     "output_type": "stream",
     "text": [
      "[0.50096262 0.11006094 0.23986519 0.64881137 0.37526369]\n",
      "[0.11006094 0.23986519 0.37526369 0.50096262 0.64881137]\n"
     ]
    },
    {
     "data": {
      "text/plain": [
       "array([0.11006094, 0.23986519, 0.37526369, 0.50096262, 0.64881137])"
      ]
     },
     "execution_count": 14,
     "metadata": {},
     "output_type": "execute_result"
    }
   ],
   "source": [
    "data = np.random.rand(5)\n",
    "print(data)\n",
    "\n",
    "# 不改變data，我常用\n",
    "print(np.sort(data))\n",
    "\n",
    "# 直接改變data\n",
    "data.sort()\n",
    "data"
   ]
  },
  {
   "cell_type": "code",
   "execution_count": 15,
   "metadata": {},
   "outputs": [
    {
     "name": "stdout",
     "output_type": "stream",
     "text": [
      "[0.74090454 0.12164408 0.25804238 0.11460111 0.98742482]\n",
      "[0.98742482 0.74090454 0.25804238 0.12164408 0.11460111]\n"
     ]
    },
    {
     "data": {
      "text/plain": [
       "array([0.98742482, 0.74090454, 0.25804238, 0.12164408, 0.11460111])"
      ]
     },
     "execution_count": 15,
     "metadata": {},
     "output_type": "execute_result"
    }
   ],
   "source": [
    "data = np.random.rand(5)\n",
    "print(data)\n",
    "\n",
    "# 不改變data\n",
    "print(np.sort(data)[::-1])\n",
    "\n",
    "# 直接改變data\n",
    "data[::-1].sort()\n",
    "data"
   ]
  },
  {
   "cell_type": "markdown",
   "metadata": {},
   "source": [
    "### 1-8. 最大、最小、總和、累積"
   ]
  },
  {
   "cell_type": "code",
   "execution_count": 16,
   "metadata": {},
   "outputs": [
    {
     "name": "stdout",
     "output_type": "stream",
     "text": [
      "5\n",
      "1\n",
      "15\n",
      "[ 1  3  6 10 15]\n"
     ]
    }
   ],
   "source": [
    "data = np.array([1, 2, 3, 4, 5])\n",
    "\n",
    "print(np.max(data))\n",
    "print(np.min(data))\n",
    "print(np.sum(data))\n",
    "print(np.cumsum(data))"
   ]
  },
  {
   "cell_type": "markdown",
   "metadata": {},
   "source": [
    "### 題外話. 最大值位置argmax、最小值位置argmin、取得名次argsort"
   ]
  },
  {
   "cell_type": "code",
   "execution_count": 17,
   "metadata": {},
   "outputs": [
    {
     "name": "stdout",
     "output_type": "stream",
     "text": [
      "2\n",
      "1\n",
      "[1 3 0 4 2]\n",
      "[2 4 0 3 1]\n"
     ]
    }
   ],
   "source": [
    "data = np.array([3, 1, 5, 2, 4])\n",
    "\n",
    "print(np.argmax(data))\n",
    "print(np.argmin(data))\n",
    "print(np.argsort(data))# 低到高\n",
    "print(np.argsort(data)[::-1])# 高到低"
   ]
  },
  {
   "cell_type": "markdown",
   "metadata": {},
   "source": [
    "### 1-9. 亂數"
   ]
  },
  {
   "cell_type": "code",
   "execution_count": 18,
   "metadata": {},
   "outputs": [
    {
     "name": "stdout",
     "output_type": "stream",
     "text": [
      "[-0.43205672  0.29298344  1.13421114  2.14990198 -1.40980786 -0.78617144\n",
      " -0.79910145 -0.74205289 -0.28241402  0.53319089]\n",
      "[0.57223066 0.60005187 0.9365671  0.82184789 0.93813069 0.98162831\n",
      " 0.86951859 0.6082882  0.96412262 0.67456268]\n",
      "[[0 1 4]\n",
      " [2 0 1]\n",
      " [3 1 4]\n",
      " [0 0 4]\n",
      " [0 3 2]]\n",
      "[1 1 1 1 1 0 0 1 1 0]\n"
     ]
    }
   ],
   "source": [
    "# 常態分佈/正態分布/高斯亂數\n",
    "print(np.random.randn(10))\n",
    "\n",
    "# 均勻分佈，0~1\n",
    "print(np.random.uniform(size=10))\n",
    "\n",
    "# 整數亂數，0~4\n",
    "print(np.random.randint(low=0, high=5, size=[5, 3]))\n",
    "\n",
    "# 二元亂數\n",
    "print(np.random.choice(2, 10))"
   ]
  },
  {
   "cell_type": "code",
   "execution_count": 19,
   "metadata": {},
   "outputs": [
    {
     "data": {
      "text/plain": [
       "array([[-1.69878091, -2.84371526, -4.04407895],\n",
       "       [ 4.43835133, -4.81439653,  0.79532284],\n",
       "       [ 1.34132829, -4.46645707,  2.00892899],\n",
       "       [ 1.19866199, -3.37923618,  4.09853863],\n",
       "       [ 1.2310866 ,  3.28780751, -3.05522622]])"
      ]
     },
     "execution_count": 19,
     "metadata": {},
     "output_type": "execute_result"
    }
   ],
   "source": [
    "# 自訂範圍、維度\n",
    "np.random.uniform(low=-5, high=5, size=[5, 3])"
   ]
  },
  {
   "cell_type": "markdown",
   "metadata": {},
   "source": [
    "### 題外話. 亂數種子\n",
    "https://mjjoe1017.pixnet.net/blog/post/215512326-%5Bpython%5D-numpy.random.seed-%28--%29-%E7%94%A8%E6%B3%95"
   ]
  },
  {
   "cell_type": "markdown",
   "metadata": {},
   "source": [
    "### 1-10. 隨機取樣"
   ]
  },
  {
   "cell_type": "code",
   "execution_count": 20,
   "metadata": {},
   "outputs": [
    {
     "name": "stdout",
     "output_type": "stream",
     "text": [
      "[4 1 2]\n",
      "[3 5 1]\n"
     ]
    }
   ],
   "source": [
    "data = np.array([1, 2, 3, 4, 5])\n",
    "\n",
    "# 從data中隨機取3個，會重複\n",
    "print(np.random.choice(data, 3, replace=True))\n",
    "\n",
    "# 從data中隨機取3個，不會重複\n",
    "print(np.random.choice(data, 3, replace=False))"
   ]
  },
  {
   "cell_type": "markdown",
   "metadata": {},
   "source": [
    "### 1-11. 矩陣乘法"
   ]
  },
  {
   "cell_type": "code",
   "execution_count": 21,
   "metadata": {},
   "outputs": [
    {
     "data": {
      "text/plain": [
       "array([[  0,   1,   4],\n",
       "       [  9,  16,  25],\n",
       "       [ 36,  49,  64],\n",
       "       [ 81, 100, 121]])"
      ]
     },
     "execution_count": 21,
     "metadata": {},
     "output_type": "execute_result"
    }
   ],
   "source": [
    "data1 = np.arange(12).reshape(4, 3)\n",
    "data2 = np.arange(12).reshape(4, 3)\n",
    "\n",
    "# 逐元素乘\n",
    "data1*data2"
   ]
  },
  {
   "cell_type": "code",
   "execution_count": 22,
   "metadata": {},
   "outputs": [
    {
     "data": {
      "text/plain": [
       "array([[ 20,  23,  26,  29],\n",
       "       [ 56,  68,  80,  92],\n",
       "       [ 92, 113, 134, 155],\n",
       "       [128, 158, 188, 218]])"
      ]
     },
     "execution_count": 22,
     "metadata": {},
     "output_type": "execute_result"
    }
   ],
   "source": [
    "data1 = np.arange(12).reshape(4, 3)\n",
    "data2 = np.arange(12).reshape(3, 4)\n",
    "\n",
    "# 線性代數\n",
    "np.dot(data1, data2)"
   ]
  },
  {
   "cell_type": "code",
   "execution_count": 23,
   "metadata": {},
   "outputs": [
    {
     "name": "stdout",
     "output_type": "stream",
     "text": [
      "[0. 0. 0. 0. 0.]\n",
      "[1. 1. 1. 1. 1.]\n"
     ]
    }
   ],
   "source": [
    "### 1-12. 0矩陣或者1矩陣\n",
    "\n",
    "print(np.zeros(5))\n",
    "print(np.ones(5))"
   ]
  },
  {
   "cell_type": "markdown",
   "metadata": {},
   "source": [
    "### 題外話. zeros_like, ones_like"
   ]
  },
  {
   "cell_type": "code",
   "execution_count": 24,
   "metadata": {},
   "outputs": [
    {
     "name": "stdout",
     "output_type": "stream",
     "text": [
      "[[ 0  1  2]\n",
      " [ 3  4  5]\n",
      " [ 6  7  8]\n",
      " [ 9 10 11]]\n",
      "[[0 0 0]\n",
      " [0 0 0]\n",
      " [0 0 0]\n",
      " [0 0 0]]\n",
      "[[1 1 1]\n",
      " [1 1 1]\n",
      " [1 1 1]\n",
      " [1 1 1]]\n"
     ]
    }
   ],
   "source": [
    "data = np.arange(12).reshape(4, 3)\n",
    "\n",
    "print(data)\n",
    "print(np.zeros_like(data))\n",
    "print(np.ones_like(data))"
   ]
  },
  {
   "cell_type": "code",
   "execution_count": null,
   "metadata": {},
   "outputs": [],
   "source": []
  }
 ],
 "metadata": {
  "kernelspec": {
   "display_name": "Python 3",
   "language": "python",
   "name": "python3"
  },
  "language_info": {
   "codemirror_mode": {
    "name": "ipython",
    "version": 3
   },
   "file_extension": ".py",
   "mimetype": "text/x-python",
   "name": "python",
   "nbconvert_exporter": "python",
   "pygments_lexer": "ipython3",
   "version": "3.7.9"
  }
 },
 "nbformat": 4,
 "nbformat_minor": 4
}
