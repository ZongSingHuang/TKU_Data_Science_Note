{
 "cells": [
  {
   "cell_type": "code",
   "execution_count": 1,
   "metadata": {},
   "outputs": [],
   "source": [
    "import scipy as sp\n",
    "import numpy as np\n",
    "import scipy.linalg as linalg\n",
    "import scipy.optimize as optimize"
   ]
  },
  {
   "cell_type": "markdown",
   "metadata": {},
   "source": [
    "### 1-1. 矩陣行列式"
   ]
  },
  {
   "cell_type": "code",
   "execution_count": 2,
   "metadata": {},
   "outputs": [
    {
     "data": {
      "text/plain": [
       "-4.0"
      ]
     },
     "execution_count": 2,
     "metadata": {},
     "output_type": "execute_result"
    }
   ],
   "source": [
    "data = np.array([[1, -1, -1], \n",
    "                 [-1, 1, -1], \n",
    "                 [-1, -1, 1]])\n",
    "\n",
    "linalg.det(data)"
   ]
  },
  {
   "cell_type": "markdown",
   "metadata": {},
   "source": [
    "### 題外話. Scipy的某些函式不能直接使用\n",
    "https://blog.csdn.net/qq_44965314/article/details/105150761"
   ]
  },
  {
   "cell_type": "markdown",
   "metadata": {},
   "source": [
    "1. 如linalg.det()，我們必須要導入import scipy.linalg as linalg才能使用\n",
    "2. 如果只導入import scipy as sp，並且執行sp.linalg.det(data)，則會報錯"
   ]
  },
  {
   "cell_type": "markdown",
   "metadata": {},
   "source": [
    "### 1-2. 反矩陣"
   ]
  },
  {
   "cell_type": "code",
   "execution_count": 3,
   "metadata": {},
   "outputs": [
    {
     "data": {
      "text/plain": [
       "array([[ 0. , -0.5, -0.5],\n",
       "       [-0.5, -0. , -0.5],\n",
       "       [-0.5, -0.5,  0. ]])"
      ]
     },
     "execution_count": 3,
     "metadata": {},
     "output_type": "execute_result"
    }
   ],
   "source": [
    "data = np.array([[1, -1, -1], \n",
    "                 [-1, 1, -1], \n",
    "                 [-1, -1, 1]])\n",
    "\n",
    "linalg.inv(data)"
   ]
  },
  {
   "cell_type": "markdown",
   "metadata": {},
   "source": [
    "### 1-3. 特徵值、特徵向量"
   ]
  },
  {
   "cell_type": "code",
   "execution_count": 4,
   "metadata": {},
   "outputs": [
    {
     "name": "stdout",
     "output_type": "stream",
     "text": [
      "[-1.+0.j  2.+0.j  2.+0.j]\n",
      "[[ 0.57735027 -0.81649658  0.42755853]\n",
      " [ 0.57735027  0.40824829 -0.81618716]\n",
      " [ 0.57735027  0.40824829  0.38862863]]\n"
     ]
    }
   ],
   "source": [
    "data = np.array([[1, -1, -1], \n",
    "                 [-1, 1, -1], \n",
    "                 [-1, -1, 1]])\n",
    "\n",
    "eig_value, eig_vector = linalg.eig(data)\n",
    "print(eig_value)\n",
    "print(eig_vector)"
   ]
  },
  {
   "cell_type": "markdown",
   "metadata": {},
   "source": [
    "### 1-4. 牛頓法"
   ]
  },
  {
   "cell_type": "code",
   "execution_count": 5,
   "metadata": {},
   "outputs": [],
   "source": [
    "def sphere_3D(x):\n",
    "    return x[0]**2+x[1]**2+x[2]**2"
   ]
  },
  {
   "cell_type": "code",
   "execution_count": 6,
   "metadata": {},
   "outputs": [
    {
     "data": {
      "text/plain": [
       "array([1.61479206e-08, 1.61479206e-08, 1.61479206e-08])"
      ]
     },
     "execution_count": 6,
     "metadata": {},
     "output_type": "execute_result"
    }
   ],
   "source": [
    "# 求sphere_3D=0的x\n",
    "# 起始值x0\n",
    "optimize.newton(sphere_3D, x0=[7, 7, 7])"
   ]
  },
  {
   "cell_type": "markdown",
   "metadata": {},
   "source": [
    "### 題外話. minimize\n",
    "https://docs.scipy.org/doc/scipy/reference/generated/scipy.optimize.minimize.html"
   ]
  },
  {
   "cell_type": "code",
   "execution_count": 7,
   "metadata": {},
   "outputs": [
    {
     "data": {
      "text/plain": [
       " final_simplex: (array([[ 3.38415719e-05,  3.93911692e-05, -1.01219774e-05],\n",
       "       [-2.35313790e-05, -5.04917666e-05, -1.15303561e-05],\n",
       "       [-6.48592079e-05,  1.57678606e-05,  2.62137909e-05],\n",
       "       [-2.34315472e-05, -2.11009798e-05,  8.01306367e-05]]), array([2.79937063e-09, 3.23609340e-09, 5.14250511e-09, 7.41520770e-09]))\n",
       "           fun: 2.799370627105915e-09\n",
       "       message: 'Optimization terminated successfully.'\n",
       "          nfev: 158\n",
       "           nit: 89\n",
       "        status: 0\n",
       "       success: True\n",
       "             x: array([ 3.38415719e-05,  3.93911692e-05, -1.01219774e-05])"
      ]
     },
     "execution_count": 7,
     "metadata": {},
     "output_type": "execute_result"
    }
   ],
   "source": [
    "def sphere_3D(x):\n",
    "    return x[0]**2+x[1]**2+x[2]**2\n",
    "\n",
    "optimize.minimize(sphere_3D, x0=[7, 7, 7], method='Nelder-Mead')"
   ]
  },
  {
   "cell_type": "code",
   "execution_count": null,
   "metadata": {},
   "outputs": [],
   "source": []
  }
 ],
 "metadata": {
  "kernelspec": {
   "display_name": "Python 3",
   "language": "python",
   "name": "python3"
  },
  "language_info": {
   "codemirror_mode": {
    "name": "ipython",
    "version": 3
   },
   "file_extension": ".py",
   "mimetype": "text/x-python",
   "name": "python",
   "nbconvert_exporter": "python",
   "pygments_lexer": "ipython3",
   "version": "3.7.9"
  }
 },
 "nbformat": 4,
 "nbformat_minor": 4
}
